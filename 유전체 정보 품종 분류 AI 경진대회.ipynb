{
  "nbformat": 4,
  "nbformat_minor": 0,
  "metadata": {
    "colab": {
      "provenance": []
    },
    "kernelspec": {
      "name": "python3",
      "display_name": "Python 3"
    },
    "language_info": {
      "name": "python"
    }
  },
  "cells": [
    {
      "cell_type": "markdown",
      "source": [
        "# 유전체 정보 품종 분류 AI 경진대회\n",
        "**[배경]**<br>\n",
        "개체 정보와 SNP 정보를 이용하여 A, B, C 품종을 분류하는 최고의 품종구분 정확도를 획득하는 것이 목표이다.\n",
        "\n",
        "**[주제]**<br>\n",
        "개체와 SNP 정보를 이용하여 품종 분류 AI 모델 개발\n",
        "\n",
        "**[주최 / 주관]**<br>\n",
        "- 주최 : 충남대학교, 티엔티리써치, AI Frenz\n",
        "- 주관 : 데이콘\n",
        "\n",
        "**[평가 방식]**\n",
        "- 평가 산식 : Macro F1 Score\n",
        "- Private Score 상위 10팀 코드 및 PPT 제출 후 코드 평가\n",
        "\n",
        "**[규칙]**\n",
        "- 외부 데이터 사용 금지\n",
        "- 사용에 법적 제약이 없으며 **논문으로 공개된 사전 학습 모델(Pre-trained Model) 사용 가능**\n",
        "    - 사전 학습 모델의 출처와 논문 링크 필수 기재\n",
        "    - 단, Test dataset이 포함된 데이터로 사전 학습된 모델 사용 불가능"
      ],
      "metadata": {
        "id": "SG9HE26Xc3aZ"
      }
    },
    {
      "cell_type": "markdown",
      "source": [
        "## Dataset Info\n",
        "**train.csv [파일]**\n",
        "- id : 개체 고유 ID\n",
        "- 개체정보\n",
        "    - father : 개체의 가계 고유 번호 (0 : Unknown)\n",
        "    - mother : 개체의 모계 고유 번호 (0 : Unknown)\n",
        "    - gender : 개체 성별 (0 : Unknown, 1 : female, 2 : male)\n",
        "    - trait : 개체 표현형 정보 \n",
        "- 15개의 SNP 정보 : SNP_01 ~ SNP_15\n",
        "- class : 개체의 품종 (A,B,C)\n",
        "\n",
        "**test.csv [파일]**\n",
        "- id : 개체 샘플 별 고유 ID\n",
        "- 개체정보\n",
        "    - father : 개체의 가계 고유 번호 (0 : Unknown)\n",
        "    - mother : 개체의 모계 고유 번호 (0 : Unknown)\n",
        "    - gender : 개체 성별 (0 : Unknown, 1 : female, 2 : male)\n",
        "    - trait : 개체 표현형 정보 \n",
        "- 15개의 SNP 정보 : SNP_01 ~ SNP_15\n",
        "\n",
        "**snp_info.csv [파일]**\n",
        "- 15개의 SNP 세부 정보\n",
        "- name : SNP 명\n",
        "- chrom : 염색체 정보\n",
        "- cm : Genetic distance\n",
        "- pos : 각 마커의 유전체상 위치 정보\n",
        "\n",
        "**sample_submission.csv [파일] - 제출 양식**\n",
        "- id : 개체 샘플 별 고유 ID\n",
        "- class : 예측한 개체의 품종 (A,B,C)"
      ],
      "metadata": {
        "id": "5SIhmoi7dDFK"
      }
    },
    {
      "cell_type": "markdown",
      "source": [
        "## Version"
      ],
      "metadata": {
        "id": "CXgep7WkdMEG"
      }
    },
    {
      "cell_type": "code",
      "execution_count": 1,
      "metadata": {
        "colab": {
          "base_uri": "https://localhost:8080/",
          "height": 35
        },
        "id": "DweLdBUpcFHP",
        "outputId": "26df9d8a-cdfc-4818-9123-1698ad369cd1"
      },
      "outputs": [
        {
          "output_type": "execute_result",
          "data": {
            "text/plain": [
              "'Linux-5.10.147+-x86_64-with-glibc2.29'"
            ],
            "application/vnd.google.colaboratory.intrinsic+json": {
              "type": "string"
            }
          },
          "metadata": {},
          "execution_count": 1
        }
      ],
      "source": [
        "import platform\n",
        "platform.platform()"
      ]
    },
    {
      "cell_type": "code",
      "source": [
        "!cat /etc/issue.net"
      ],
      "metadata": {
        "colab": {
          "base_uri": "https://localhost:8080/"
        },
        "id": "K5KhLEM_dNYG",
        "outputId": "c813ed77-2d35-4cf3-dfeb-85fc4137ab0e"
      },
      "execution_count": 2,
      "outputs": [
        {
          "output_type": "stream",
          "name": "stdout",
          "text": [
            "Ubuntu 20.04.5 LTS\n"
          ]
        }
      ]
    },
    {
      "cell_type": "code",
      "source": [
        "!python --version"
      ],
      "metadata": {
        "colab": {
          "base_uri": "https://localhost:8080/"
        },
        "id": "0DNqd0F1dQ0m",
        "outputId": "85bf595c-4233-45d7-eeaa-8f5a72d1f8c5"
      },
      "execution_count": 3,
      "outputs": [
        {
          "output_type": "stream",
          "name": "stdout",
          "text": [
            "Python 3.8.10\n"
          ]
        }
      ]
    },
    {
      "cell_type": "markdown",
      "source": [
        "## Import & Install"
      ],
      "metadata": {
        "id": "DcgW4JVHdbRF"
      }
    },
    {
      "cell_type": "code",
      "source": [
        "# 코랩 기준 필요 라이브러리 설치\n",
        "\n",
        "# Category_encoders 설치\n",
        "!pip install category_encoders"
      ],
      "metadata": {
        "colab": {
          "base_uri": "https://localhost:8080/"
        },
        "id": "9QdeQCGodUjP",
        "outputId": "b6cf0e5e-cbf1-479a-9000-9842f37a729c"
      },
      "execution_count": 5,
      "outputs": [
        {
          "output_type": "stream",
          "name": "stdout",
          "text": [
            "Looking in indexes: https://pypi.org/simple, https://us-python.pkg.dev/colab-wheels/public/simple/\n",
            "Collecting category_encoders\n",
            "  Downloading category_encoders-2.6.0-py2.py3-none-any.whl (81 kB)\n",
            "\u001b[2K     \u001b[90m━━━━━━━━━━━━━━━━━━━━━━━━━━━━━━━━━━━━━━━━\u001b[0m \u001b[32m81.2/81.2 KB\u001b[0m \u001b[31m4.2 MB/s\u001b[0m eta \u001b[36m0:00:00\u001b[0m\n",
            "\u001b[?25hRequirement already satisfied: patsy>=0.5.1 in /usr/local/lib/python3.8/dist-packages (from category_encoders) (0.5.3)\n",
            "Requirement already satisfied: numpy>=1.14.0 in /usr/local/lib/python3.8/dist-packages (from category_encoders) (1.21.6)\n",
            "Requirement already satisfied: pandas>=1.0.5 in /usr/local/lib/python3.8/dist-packages (from category_encoders) (1.3.5)\n",
            "Requirement already satisfied: scikit-learn>=0.20.0 in /usr/local/lib/python3.8/dist-packages (from category_encoders) (1.0.2)\n",
            "Requirement already satisfied: scipy>=1.0.0 in /usr/local/lib/python3.8/dist-packages (from category_encoders) (1.7.3)\n",
            "Requirement already satisfied: statsmodels>=0.9.0 in /usr/local/lib/python3.8/dist-packages (from category_encoders) (0.12.2)\n",
            "Requirement already satisfied: pytz>=2017.3 in /usr/local/lib/python3.8/dist-packages (from pandas>=1.0.5->category_encoders) (2022.7)\n",
            "Requirement already satisfied: python-dateutil>=2.7.3 in /usr/local/lib/python3.8/dist-packages (from pandas>=1.0.5->category_encoders) (2.8.2)\n",
            "Requirement already satisfied: six in /usr/local/lib/python3.8/dist-packages (from patsy>=0.5.1->category_encoders) (1.15.0)\n",
            "Requirement already satisfied: joblib>=0.11 in /usr/local/lib/python3.8/dist-packages (from scikit-learn>=0.20.0->category_encoders) (1.2.0)\n",
            "Requirement already satisfied: threadpoolctl>=2.0.0 in /usr/local/lib/python3.8/dist-packages (from scikit-learn>=0.20.0->category_encoders) (3.1.0)\n",
            "Installing collected packages: category_encoders\n",
            "Successfully installed category_encoders-2.6.0\n"
          ]
        }
      ]
    },
    {
      "cell_type": "code",
      "source": [
        "# Base & visualization\n",
        "import pandas as pd\n",
        "import random\n",
        "import os\n",
        "import numpy as np\n",
        "import warnings\n",
        "import matplotlib.pylab as plt\n",
        "import seaborn as sns\n",
        "\n",
        "# sklearn module & utils\n",
        "from tqdm.notebook import tqdm\n",
        "from sklearn.feature_selection import SelectPercentile\n",
        "from sklearn.model_selection import StratifiedKFold , KFold, train_test_split, cross_val_score, cross_validate\n",
        "warnings.filterwarnings('ignore') \n",
        "\n",
        "# Scaling\n",
        "from sklearn.preprocessing import StandardScaler, LabelEncoder\n",
        "\n",
        "# Encoding\n",
        "import category_encoders as ce\n",
        "\n",
        "# Sampling\n",
        "from imblearn.over_sampling import BorderlineSMOTE\n",
        "\n",
        "# Modeling\n",
        "from sklearn.ensemble import BaggingClassifier, GradientBoostingClassifier, VotingClassifier, RandomForestClassifier\n",
        "from sklearn.tree import DecisionTreeClassifier\n",
        "from sklearn.linear_model import RidgeClassifier, RidgeClassifierCV\n",
        "from sklearn.svm import SVC\n",
        "from lightgbm import LGBMClassifier\n",
        "from xgboost import XGBClassifier"
      ],
      "metadata": {
        "id": "rf_WT_XQdjI6"
      },
      "execution_count": 7,
      "outputs": []
    },
    {
      "cell_type": "markdown",
      "source": [
        "## Fix Seed"
      ],
      "metadata": {
        "id": "IDby2D18d5ek"
      }
    },
    {
      "cell_type": "code",
      "source": [
        "#Seed 고정\n",
        "class CFG:\n",
        "    SEED = 26\n",
        "\n",
        "def seed_everything(seed):\n",
        "    random.seed(seed)\n",
        "    os.environ['PYTHONHASHSEED'] = str(seed)\n",
        "    np.random.seed(seed)\n",
        "seed_everything(CFG.SEED) # Seed 고정"
      ],
      "metadata": {
        "id": "4PMKpJQzdl4-"
      },
      "execution_count": 8,
      "outputs": []
    },
    {
      "cell_type": "markdown",
      "source": [
        "## Data Load"
      ],
      "metadata": {
        "id": "-7c59b0geFYp"
      }
    },
    {
      "cell_type": "code",
      "source": [
        "DATA_PATH = '/content/'"
      ],
      "metadata": {
        "id": "2-4so7E1eI-z"
      },
      "execution_count": 10,
      "outputs": []
    },
    {
      "cell_type": "code",
      "source": [
        "train = pd.read_csv(DATA_PATH + 'train.csv')\n",
        "test = pd.read_csv(DATA_PATH + 'test.csv')\n",
        "snp = pd.read_csv(DATA_PATH + 'snp_info.csv')"
      ],
      "metadata": {
        "id": "iPFglaa5eA3B"
      },
      "execution_count": 25,
      "outputs": []
    },
    {
      "cell_type": "markdown",
      "source": [
        "## EDA"
      ],
      "metadata": {
        "id": "dVKl_uApev1B"
      }
    },
    {
      "cell_type": "code",
      "source": [
        "print(train.shape)\n",
        "train.head()"
      ],
      "metadata": {
        "colab": {
          "base_uri": "https://localhost:8080/",
          "height": 317
        },
        "id": "-djvawafecIA",
        "outputId": "8bc88dd1-9fd7-4435-f658-4ec782bb400a"
      },
      "execution_count": 26,
      "outputs": [
        {
          "output_type": "stream",
          "name": "stdout",
          "text": [
            "(262, 21)\n"
          ]
        },
        {
          "output_type": "execute_result",
          "data": {
            "text/plain": [
              "          id  father  mother  gender  trait SNP_01 SNP_02 SNP_03 SNP_04  \\\n",
              "0  TRAIN_000       0       0       0      2    G G    A G    A A    G A   \n",
              "1  TRAIN_001       0       0       0      2    A G    A G    C A    A A   \n",
              "2  TRAIN_002       0       0       0      2    G G    G G    A A    G A   \n",
              "3  TRAIN_003       0       0       0      1    A A    G G    A A    G A   \n",
              "4  TRAIN_004       0       0       0      2    G G    G G    C C    A A   \n",
              "\n",
              "  SNP_05  ... SNP_07 SNP_08 SNP_09 SNP_10 SNP_11 SNP_12 SNP_13 SNP_14 SNP_15  \\\n",
              "0    C A  ...    A A    G G    A A    G G    A G    A A    A A    A A    A A   \n",
              "1    A A  ...    A A    G A    A A    A G    A A    G A    G G    A A    A A   \n",
              "2    C C  ...    A A    G A    G A    A G    A A    A A    A A    A A    A A   \n",
              "3    A A  ...    G G    A A    G G    A G    G G    G G    G G    A A    G G   \n",
              "4    C C  ...    A A    A A    A A    G G    A A    A A    A G    A A    G A   \n",
              "\n",
              "  class  \n",
              "0     B  \n",
              "1     C  \n",
              "2     B  \n",
              "3     A  \n",
              "4     C  \n",
              "\n",
              "[5 rows x 21 columns]"
            ],
            "text/html": [
              "\n",
              "  <div id=\"df-dd0889bb-c937-47cf-aca2-e6eb7fa1ef3c\">\n",
              "    <div class=\"colab-df-container\">\n",
              "      <div>\n",
              "<style scoped>\n",
              "    .dataframe tbody tr th:only-of-type {\n",
              "        vertical-align: middle;\n",
              "    }\n",
              "\n",
              "    .dataframe tbody tr th {\n",
              "        vertical-align: top;\n",
              "    }\n",
              "\n",
              "    .dataframe thead th {\n",
              "        text-align: right;\n",
              "    }\n",
              "</style>\n",
              "<table border=\"1\" class=\"dataframe\">\n",
              "  <thead>\n",
              "    <tr style=\"text-align: right;\">\n",
              "      <th></th>\n",
              "      <th>id</th>\n",
              "      <th>father</th>\n",
              "      <th>mother</th>\n",
              "      <th>gender</th>\n",
              "      <th>trait</th>\n",
              "      <th>SNP_01</th>\n",
              "      <th>SNP_02</th>\n",
              "      <th>SNP_03</th>\n",
              "      <th>SNP_04</th>\n",
              "      <th>SNP_05</th>\n",
              "      <th>...</th>\n",
              "      <th>SNP_07</th>\n",
              "      <th>SNP_08</th>\n",
              "      <th>SNP_09</th>\n",
              "      <th>SNP_10</th>\n",
              "      <th>SNP_11</th>\n",
              "      <th>SNP_12</th>\n",
              "      <th>SNP_13</th>\n",
              "      <th>SNP_14</th>\n",
              "      <th>SNP_15</th>\n",
              "      <th>class</th>\n",
              "    </tr>\n",
              "  </thead>\n",
              "  <tbody>\n",
              "    <tr>\n",
              "      <th>0</th>\n",
              "      <td>TRAIN_000</td>\n",
              "      <td>0</td>\n",
              "      <td>0</td>\n",
              "      <td>0</td>\n",
              "      <td>2</td>\n",
              "      <td>G G</td>\n",
              "      <td>A G</td>\n",
              "      <td>A A</td>\n",
              "      <td>G A</td>\n",
              "      <td>C A</td>\n",
              "      <td>...</td>\n",
              "      <td>A A</td>\n",
              "      <td>G G</td>\n",
              "      <td>A A</td>\n",
              "      <td>G G</td>\n",
              "      <td>A G</td>\n",
              "      <td>A A</td>\n",
              "      <td>A A</td>\n",
              "      <td>A A</td>\n",
              "      <td>A A</td>\n",
              "      <td>B</td>\n",
              "    </tr>\n",
              "    <tr>\n",
              "      <th>1</th>\n",
              "      <td>TRAIN_001</td>\n",
              "      <td>0</td>\n",
              "      <td>0</td>\n",
              "      <td>0</td>\n",
              "      <td>2</td>\n",
              "      <td>A G</td>\n",
              "      <td>A G</td>\n",
              "      <td>C A</td>\n",
              "      <td>A A</td>\n",
              "      <td>A A</td>\n",
              "      <td>...</td>\n",
              "      <td>A A</td>\n",
              "      <td>G A</td>\n",
              "      <td>A A</td>\n",
              "      <td>A G</td>\n",
              "      <td>A A</td>\n",
              "      <td>G A</td>\n",
              "      <td>G G</td>\n",
              "      <td>A A</td>\n",
              "      <td>A A</td>\n",
              "      <td>C</td>\n",
              "    </tr>\n",
              "    <tr>\n",
              "      <th>2</th>\n",
              "      <td>TRAIN_002</td>\n",
              "      <td>0</td>\n",
              "      <td>0</td>\n",
              "      <td>0</td>\n",
              "      <td>2</td>\n",
              "      <td>G G</td>\n",
              "      <td>G G</td>\n",
              "      <td>A A</td>\n",
              "      <td>G A</td>\n",
              "      <td>C C</td>\n",
              "      <td>...</td>\n",
              "      <td>A A</td>\n",
              "      <td>G A</td>\n",
              "      <td>G A</td>\n",
              "      <td>A G</td>\n",
              "      <td>A A</td>\n",
              "      <td>A A</td>\n",
              "      <td>A A</td>\n",
              "      <td>A A</td>\n",
              "      <td>A A</td>\n",
              "      <td>B</td>\n",
              "    </tr>\n",
              "    <tr>\n",
              "      <th>3</th>\n",
              "      <td>TRAIN_003</td>\n",
              "      <td>0</td>\n",
              "      <td>0</td>\n",
              "      <td>0</td>\n",
              "      <td>1</td>\n",
              "      <td>A A</td>\n",
              "      <td>G G</td>\n",
              "      <td>A A</td>\n",
              "      <td>G A</td>\n",
              "      <td>A A</td>\n",
              "      <td>...</td>\n",
              "      <td>G G</td>\n",
              "      <td>A A</td>\n",
              "      <td>G G</td>\n",
              "      <td>A G</td>\n",
              "      <td>G G</td>\n",
              "      <td>G G</td>\n",
              "      <td>G G</td>\n",
              "      <td>A A</td>\n",
              "      <td>G G</td>\n",
              "      <td>A</td>\n",
              "    </tr>\n",
              "    <tr>\n",
              "      <th>4</th>\n",
              "      <td>TRAIN_004</td>\n",
              "      <td>0</td>\n",
              "      <td>0</td>\n",
              "      <td>0</td>\n",
              "      <td>2</td>\n",
              "      <td>G G</td>\n",
              "      <td>G G</td>\n",
              "      <td>C C</td>\n",
              "      <td>A A</td>\n",
              "      <td>C C</td>\n",
              "      <td>...</td>\n",
              "      <td>A A</td>\n",
              "      <td>A A</td>\n",
              "      <td>A A</td>\n",
              "      <td>G G</td>\n",
              "      <td>A A</td>\n",
              "      <td>A A</td>\n",
              "      <td>A G</td>\n",
              "      <td>A A</td>\n",
              "      <td>G A</td>\n",
              "      <td>C</td>\n",
              "    </tr>\n",
              "  </tbody>\n",
              "</table>\n",
              "<p>5 rows × 21 columns</p>\n",
              "</div>\n",
              "      <button class=\"colab-df-convert\" onclick=\"convertToInteractive('df-dd0889bb-c937-47cf-aca2-e6eb7fa1ef3c')\"\n",
              "              title=\"Convert this dataframe to an interactive table.\"\n",
              "              style=\"display:none;\">\n",
              "        \n",
              "  <svg xmlns=\"http://www.w3.org/2000/svg\" height=\"24px\"viewBox=\"0 0 24 24\"\n",
              "       width=\"24px\">\n",
              "    <path d=\"M0 0h24v24H0V0z\" fill=\"none\"/>\n",
              "    <path d=\"M18.56 5.44l.94 2.06.94-2.06 2.06-.94-2.06-.94-.94-2.06-.94 2.06-2.06.94zm-11 1L8.5 8.5l.94-2.06 2.06-.94-2.06-.94L8.5 2.5l-.94 2.06-2.06.94zm10 10l.94 2.06.94-2.06 2.06-.94-2.06-.94-.94-2.06-.94 2.06-2.06.94z\"/><path d=\"M17.41 7.96l-1.37-1.37c-.4-.4-.92-.59-1.43-.59-.52 0-1.04.2-1.43.59L10.3 9.45l-7.72 7.72c-.78.78-.78 2.05 0 2.83L4 21.41c.39.39.9.59 1.41.59.51 0 1.02-.2 1.41-.59l7.78-7.78 2.81-2.81c.8-.78.8-2.07 0-2.86zM5.41 20L4 18.59l7.72-7.72 1.47 1.35L5.41 20z\"/>\n",
              "  </svg>\n",
              "      </button>\n",
              "      \n",
              "  <style>\n",
              "    .colab-df-container {\n",
              "      display:flex;\n",
              "      flex-wrap:wrap;\n",
              "      gap: 12px;\n",
              "    }\n",
              "\n",
              "    .colab-df-convert {\n",
              "      background-color: #E8F0FE;\n",
              "      border: none;\n",
              "      border-radius: 50%;\n",
              "      cursor: pointer;\n",
              "      display: none;\n",
              "      fill: #1967D2;\n",
              "      height: 32px;\n",
              "      padding: 0 0 0 0;\n",
              "      width: 32px;\n",
              "    }\n",
              "\n",
              "    .colab-df-convert:hover {\n",
              "      background-color: #E2EBFA;\n",
              "      box-shadow: 0px 1px 2px rgba(60, 64, 67, 0.3), 0px 1px 3px 1px rgba(60, 64, 67, 0.15);\n",
              "      fill: #174EA6;\n",
              "    }\n",
              "\n",
              "    [theme=dark] .colab-df-convert {\n",
              "      background-color: #3B4455;\n",
              "      fill: #D2E3FC;\n",
              "    }\n",
              "\n",
              "    [theme=dark] .colab-df-convert:hover {\n",
              "      background-color: #434B5C;\n",
              "      box-shadow: 0px 1px 3px 1px rgba(0, 0, 0, 0.15);\n",
              "      filter: drop-shadow(0px 1px 2px rgba(0, 0, 0, 0.3));\n",
              "      fill: #FFFFFF;\n",
              "    }\n",
              "  </style>\n",
              "\n",
              "      <script>\n",
              "        const buttonEl =\n",
              "          document.querySelector('#df-dd0889bb-c937-47cf-aca2-e6eb7fa1ef3c button.colab-df-convert');\n",
              "        buttonEl.style.display =\n",
              "          google.colab.kernel.accessAllowed ? 'block' : 'none';\n",
              "\n",
              "        async function convertToInteractive(key) {\n",
              "          const element = document.querySelector('#df-dd0889bb-c937-47cf-aca2-e6eb7fa1ef3c');\n",
              "          const dataTable =\n",
              "            await google.colab.kernel.invokeFunction('convertToInteractive',\n",
              "                                                     [key], {});\n",
              "          if (!dataTable) return;\n",
              "\n",
              "          const docLinkHtml = 'Like what you see? Visit the ' +\n",
              "            '<a target=\"_blank\" href=https://colab.research.google.com/notebooks/data_table.ipynb>data table notebook</a>'\n",
              "            + ' to learn more about interactive tables.';\n",
              "          element.innerHTML = '';\n",
              "          dataTable['output_type'] = 'display_data';\n",
              "          await google.colab.output.renderOutput(dataTable, element);\n",
              "          const docLink = document.createElement('div');\n",
              "          docLink.innerHTML = docLinkHtml;\n",
              "          element.appendChild(docLink);\n",
              "        }\n",
              "      </script>\n",
              "    </div>\n",
              "  </div>\n",
              "  "
            ]
          },
          "metadata": {},
          "execution_count": 26
        }
      ]
    },
    {
      "cell_type": "code",
      "source": [
        "# SNP_01 ~ SNP_15\n",
        "snp_col = train.columns[train.columns.str.contains('SNP')].tolist()"
      ],
      "metadata": {
        "id": "6Fkp4sUhFR_t"
      },
      "execution_count": 27,
      "outputs": []
    },
    {
      "cell_type": "code",
      "source": [
        "# SNP_01 ~ SNP_15별 class 개수\n",
        "fig, ax = plt.subplots(5, 3, figsize=(16, 15))\n",
        "idx = 0\n",
        "for col in snp_col:\n",
        "    train.groupby(col)['class'].value_counts().unstack().plot.bar(ax=ax[idx//3, idx%3])\n",
        "    idx += 1\n",
        "plt.show()"
      ],
      "metadata": {
        "colab": {
          "base_uri": "https://localhost:8080/",
          "height": 887
        },
        "id": "isZi22kWcucn",
        "outputId": "d989b463-b2c7-4f80-fcb6-716a8ebe38c1"
      },
      "execution_count": 28,
      "outputs": [
        {
          "output_type": "display_data",
          "data": {
            "text/plain": [
              "<Figure size 1152x1080 with 15 Axes>"
            ],
            "image/png": "[encoded data removed]"
          },
          "metadata": {
            "needs_background": "light"
          }
        }
      ]
    },
    {
      "cell_type": "code",
      "source": [
        "#X Y 데이터분리 및 id column drop\n",
        "def get_x_y(df):\n",
        "    if 'class' in df.columns:\n",
        "        df_x = df.drop(columns=['id', 'class'])\n",
        "        df_y = df['class']\n",
        "        return df_x, df_y\n",
        "    else:\n",
        "        df_x = df.drop(columns=['id'])\n",
        "        return df_x\n",
        "\n",
        "train_x, train_y = get_x_y(train)\n",
        "test_x = get_x_y(test)"
      ],
      "metadata": {
        "id": "xViQfCfZe432"
      },
      "execution_count": 29,
      "outputs": []
    },
    {
      "cell_type": "code",
      "source": [
        "# target변수 다중분류(A, B, C)\n",
        "train_y.unique().tolist()"
      ],
      "metadata": {
        "colab": {
          "base_uri": "https://localhost:8080/"
        },
        "id": "ZvaK9GY_ewnI",
        "outputId": "c635b7ea-a792-48ac-a5ae-1e4e2cd2bcc7"
      },
      "execution_count": 30,
      "outputs": [
        {
          "output_type": "execute_result",
          "data": {
            "text/plain": [
              "['B', 'C', 'A']"
            ]
          },
          "metadata": {},
          "execution_count": 30
        }
      ]
    },
    {
      "cell_type": "code",
      "source": [
        "train_y.value_counts()"
      ],
      "metadata": {
        "colab": {
          "base_uri": "https://localhost:8080/"
        },
        "id": "3DRd5mN_eyX6",
        "outputId": "4a56fbca-024f-4c90-e15d-063bfdf1de72"
      },
      "execution_count": 31,
      "outputs": [
        {
          "output_type": "execute_result",
          "data": {
            "text/plain": [
              "B    114\n",
              "C     79\n",
              "A     69\n",
              "Name: class, dtype: int64"
            ]
          },
          "metadata": {},
          "execution_count": 31
        }
      ]
    },
    {
      "cell_type": "code",
      "source": [
        "_ = sns.countplot(train_y)"
      ],
      "metadata": {
        "colab": {
          "base_uri": "https://localhost:8080/",
          "height": 279
        },
        "id": "p7QLD5OFhHXm",
        "outputId": "18af9b0a-6b63-4e19-b619-b8ed6c40b1cc"
      },
      "execution_count": 32,
      "outputs": [
        {
          "output_type": "display_data",
          "data": {
            "text/plain": [
              "<Figure size 432x288 with 1 Axes>"
            ],
            "image/png": "[encoded data removed]"
          },
          "metadata": {
            "needs_background": "light"
          }
        }
      ]
    },
    {
      "cell_type": "code",
      "source": [
        "# father, mother, gender에는 0으로만 입력되어 있음\n",
        "print(train['father'].unique().tolist())\n",
        "print(train['mother'].unique().tolist())\n",
        "print(train['gender'].unique().tolist())\n",
        "print(train['trait'].unique().tolist())"
      ],
      "metadata": {
        "colab": {
          "base_uri": "https://localhost:8080/"
        },
        "id": "aWPs1M11iFOs",
        "outputId": "ce13eb28-755a-49f1-dcac-ffa03331e0c4"
      },
      "execution_count": 33,
      "outputs": [
        {
          "output_type": "stream",
          "name": "stdout",
          "text": [
            "[0]\n",
            "[0]\n",
            "[0]\n",
            "[2, 1]\n"
          ]
        }
      ]
    },
    {
      "cell_type": "markdown",
      "source": [
        "## Data Pre-processing"
      ],
      "metadata": {
        "id": "GzUB-mSghPVD"
      }
    },
    {
      "cell_type": "code",
      "source": [
        "# 동일한 값을 가지는 columns 제거 -> 모델링에 좋지 않은 영향을 줄 것으로 판단 \n",
        "train_x = train_x.drop(columns=['father','mother','gender'])\n",
        "test_x = test_x.drop(columns=['father','mother','gender'])"
      ],
      "metadata": {
        "id": "swjbMeBIhJrM"
      },
      "execution_count": 34,
      "outputs": []
    },
    {
      "cell_type": "markdown",
      "source": [
        "## Feature Engineering"
      ],
      "metadata": {
        "id": "jNW5KQTAiLYR"
      }
    },
    {
      "cell_type": "markdown",
      "source": [
        "SNP 정보(name, chrom, cm, pos)를 활용하여 Feature Engineering을 진행한다.\n",
        "\n",
        "- name(SNP 명) & chrom(염색체 정보)\n",
        "- chrom(염색체 정보)\n",
        "- SNP Total combination\n",
        "- cm(Genetic distance)\n",
        "- SNP G,C,A mathematical feature"
      ],
      "metadata": {
        "id": "YOcl82u0ipMg"
      }
    },
    {
      "cell_type": "code",
      "source": [
        "snp"
      ],
      "metadata": {
        "colab": {
          "base_uri": "https://localhost:8080/",
          "height": 520
        },
        "id": "h1Mx-xayiJR9",
        "outputId": "2a4b0678-0c6c-4f0a-d703-2c7b8f30b516"
      },
      "execution_count": 35,
      "outputs": [
        {
          "output_type": "execute_result",
          "data": {
            "text/plain": [
              "    SNP_id                                   name  chrom        cm       pos\n",
              "0   SNP_01                        BTA-19852-no-rs      2  67.05460  42986890\n",
              "1   SNP_02  ARS-USMARC-Parent-DQ647190-rs29013632      6  31.15670  13897068\n",
              "2   SNP_03                    ARS-BFGL-NGS-117009      6  68.28920  44649549\n",
              "3   SNP_04                     ARS-BFGL-NGS-60567      6  77.87490  53826064\n",
              "4   SNP_05                     BovineHD0600017032      6  80.50150  61779512\n",
              "5   SNP_06                     BovineHD0600017424      6  80.59540  63048481\n",
              "6   SNP_07                 Hapmap49442-BTA-111073      6  80.78000  64037334\n",
              "7   SNP_08                     BovineHD0600018638      6  82.68560  67510588\n",
              "8   SNP_09                     ARS-BFGL-NGS-37727      6  86.87400  73092782\n",
              "9   SNP_10                           BTB-01558306      7  62.06920  40827112\n",
              "10  SNP_11                     ARS-BFGL-NGS-44247      8  97.17310  92485682\n",
              "11  SNP_12                 Hapmap32827-BTA-146530      9  62.74630  55007839\n",
              "12  SNP_13                           BTB-00395482      9  63.41810  59692848\n",
              "13  SNP_14                  Hapmap40256-BTA-84189      9  66.81970  72822507\n",
              "14  SNP_15                     BovineHD1000000224     10   1.78774    814291"
            ],
            "text/html": [
              "\n",
              "  <div id=\"df-a9b4671b-09d2-4071-bb4b-34bac69c8901\">\n",
              "    <div class=\"colab-df-container\">\n",
              "      <div>\n",
              "<style scoped>\n",
              "    .dataframe tbody tr th:only-of-type {\n",
              "        vertical-align: middle;\n",
              "    }\n",
              "\n",
              "    .dataframe tbody tr th {\n",
              "        vertical-align: top;\n",
              "    }\n",
              "\n",
              "    .dataframe thead th {\n",
              "        text-align: right;\n",
              "    }\n",
              "</style>\n",
              "<table border=\"1\" class=\"dataframe\">\n",
              "  <thead>\n",
              "    <tr style=\"text-align: right;\">\n",
              "      <th></th>\n",
              "      <th>SNP_id</th>\n",
              "      <th>name</th>\n",
              "      <th>chrom</th>\n",
              "      <th>cm</th>\n",
              "      <th>pos</th>\n",
              "    </tr>\n",
              "  </thead>\n",
              "  <tbody>\n",
              "    <tr>\n",
              "      <th>0</th>\n",
              "      <td>SNP_01</td>\n",
              "      <td>BTA-19852-no-rs</td>\n",
              "      <td>2</td>\n",
              "      <td>67.05460</td>\n",
              "      <td>42986890</td>\n",
              "    </tr>\n",
              "    <tr>\n",
              "      <th>1</th>\n",
              "      <td>SNP_02</td>\n",
              "      <td>ARS-USMARC-Parent-DQ647190-rs29013632</td>\n",
              "      <td>6</td>\n",
              "      <td>31.15670</td>\n",
              "      <td>13897068</td>\n",
              "    </tr>\n",
              "    <tr>\n",
              "      <th>2</th>\n",
              "      <td>SNP_03</td>\n",
              "      <td>ARS-BFGL-NGS-117009</td>\n",
              "      <td>6</td>\n",
              "      <td>68.28920</td>\n",
              "      <td>44649549</td>\n",
              "    </tr>\n",
              "    <tr>\n",
              "      <th>3</th>\n",
              "      <td>SNP_04</td>\n",
              "      <td>ARS-BFGL-NGS-60567</td>\n",
              "      <td>6</td>\n",
              "      <td>77.87490</td>\n",
              "      <td>53826064</td>\n",
              "    </tr>\n",
              "    <tr>\n",
              "      <th>4</th>\n",
              "      <td>SNP_05</td>\n",
              "      <td>BovineHD0600017032</td>\n",
              "      <td>6</td>\n",
              "      <td>80.50150</td>\n",
              "      <td>61779512</td>\n",
              "    </tr>\n",
              "    <tr>\n",
              "      <th>5</th>\n",
              "      <td>SNP_06</td>\n",
              "      <td>BovineHD0600017424</td>\n",
              "      <td>6</td>\n",
              "      <td>80.59540</td>\n",
              "      <td>63048481</td>\n",
              "    </tr>\n",
              "    <tr>\n",
              "      <th>6</th>\n",
              "      <td>SNP_07</td>\n",
              "      <td>Hapmap49442-BTA-111073</td>\n",
              "      <td>6</td>\n",
              "      <td>80.78000</td>\n",
              "      <td>64037334</td>\n",
              "    </tr>\n",
              "    <tr>\n",
              "      <th>7</th>\n",
              "      <td>SNP_08</td>\n",
              "      <td>BovineHD0600018638</td>\n",
              "      <td>6</td>\n",
              "      <td>82.68560</td>\n",
              "      <td>67510588</td>\n",
              "    </tr>\n",
              "    <tr>\n",
              "      <th>8</th>\n",
              "      <td>SNP_09</td>\n",
              "      <td>ARS-BFGL-NGS-37727</td>\n",
              "      <td>6</td>\n",
              "      <td>86.87400</td>\n",
              "      <td>73092782</td>\n",
              "    </tr>\n",
              "    <tr>\n",
              "      <th>9</th>\n",
              "      <td>SNP_10</td>\n",
              "      <td>BTB-01558306</td>\n",
              "      <td>7</td>\n",
              "      <td>62.06920</td>\n",
              "      <td>40827112</td>\n",
              "    </tr>\n",
              "    <tr>\n",
              "      <th>10</th>\n",
              "      <td>SNP_11</td>\n",
              "      <td>ARS-BFGL-NGS-44247</td>\n",
              "      <td>8</td>\n",
              "      <td>97.17310</td>\n",
              "      <td>92485682</td>\n",
              "    </tr>\n",
              "    <tr>\n",
              "      <th>11</th>\n",
              "      <td>SNP_12</td>\n",
              "      <td>Hapmap32827-BTA-146530</td>\n",
              "      <td>9</td>\n",
              "      <td>62.74630</td>\n",
              "      <td>55007839</td>\n",
              "    </tr>\n",
              "    <tr>\n",
              "      <th>12</th>\n",
              "      <td>SNP_13</td>\n",
              "      <td>BTB-00395482</td>\n",
              "      <td>9</td>\n",
              "      <td>63.41810</td>\n",
              "      <td>59692848</td>\n",
              "    </tr>\n",
              "    <tr>\n",
              "      <th>13</th>\n",
              "      <td>SNP_14</td>\n",
              "      <td>Hapmap40256-BTA-84189</td>\n",
              "      <td>9</td>\n",
              "      <td>66.81970</td>\n",
              "      <td>72822507</td>\n",
              "    </tr>\n",
              "    <tr>\n",
              "      <th>14</th>\n",
              "      <td>SNP_15</td>\n",
              "      <td>BovineHD1000000224</td>\n",
              "      <td>10</td>\n",
              "      <td>1.78774</td>\n",
              "      <td>814291</td>\n",
              "    </tr>\n",
              "  </tbody>\n",
              "</table>\n",
              "</div>\n",
              "      <button class=\"colab-df-convert\" onclick=\"convertToInteractive('df-a9b4671b-09d2-4071-bb4b-34bac69c8901')\"\n",
              "              title=\"Convert this dataframe to an interactive table.\"\n",
              "              style=\"display:none;\">\n",
              "        \n",
              "  <svg xmlns=\"http://www.w3.org/2000/svg\" height=\"24px\"viewBox=\"0 0 24 24\"\n",
              "       width=\"24px\">\n",
              "    <path d=\"M0 0h24v24H0V0z\" fill=\"none\"/>\n",
              "    <path d=\"M18.56 5.44l.94 2.06.94-2.06 2.06-.94-2.06-.94-.94-2.06-.94 2.06-2.06.94zm-11 1L8.5 8.5l.94-2.06 2.06-.94-2.06-.94L8.5 2.5l-.94 2.06-2.06.94zm10 10l.94 2.06.94-2.06 2.06-.94-2.06-.94-.94-2.06-.94 2.06-2.06.94z\"/><path d=\"M17.41 7.96l-1.37-1.37c-.4-.4-.92-.59-1.43-.59-.52 0-1.04.2-1.43.59L10.3 9.45l-7.72 7.72c-.78.78-.78 2.05 0 2.83L4 21.41c.39.39.9.59 1.41.59.51 0 1.02-.2 1.41-.59l7.78-7.78 2.81-2.81c.8-.78.8-2.07 0-2.86zM5.41 20L4 18.59l7.72-7.72 1.47 1.35L5.41 20z\"/>\n",
              "  </svg>\n",
              "      </button>\n",
              "      \n",
              "  <style>\n",
              "    .colab-df-container {\n",
              "      display:flex;\n",
              "      flex-wrap:wrap;\n",
              "      gap: 12px;\n",
              "    }\n",
              "\n",
              "    .colab-df-convert {\n",
              "      background-color: #E8F0FE;\n",
              "      border: none;\n",
              "      border-radius: 50%;\n",
              "      cursor: pointer;\n",
              "      display: none;\n",
              "      fill: #1967D2;\n",
              "      height: 32px;\n",
              "      padding: 0 0 0 0;\n",
              "      width: 32px;\n",
              "    }\n",
              "\n",
              "    .colab-df-convert:hover {\n",
              "      background-color: #E2EBFA;\n",
              "      box-shadow: 0px 1px 2px rgba(60, 64, 67, 0.3), 0px 1px 3px 1px rgba(60, 64, 67, 0.15);\n",
              "      fill: #174EA6;\n",
              "    }\n",
              "\n",
              "    [theme=dark] .colab-df-convert {\n",
              "      background-color: #3B4455;\n",
              "      fill: #D2E3FC;\n",
              "    }\n",
              "\n",
              "    [theme=dark] .colab-df-convert:hover {\n",
              "      background-color: #434B5C;\n",
              "      box-shadow: 0px 1px 3px 1px rgba(0, 0, 0, 0.15);\n",
              "      filter: drop-shadow(0px 1px 2px rgba(0, 0, 0, 0.3));\n",
              "      fill: #FFFFFF;\n",
              "    }\n",
              "  </style>\n",
              "\n",
              "      <script>\n",
              "        const buttonEl =\n",
              "          document.querySelector('#df-a9b4671b-09d2-4071-bb4b-34bac69c8901 button.colab-df-convert');\n",
              "        buttonEl.style.display =\n",
              "          google.colab.kernel.accessAllowed ? 'block' : 'none';\n",
              "\n",
              "        async function convertToInteractive(key) {\n",
              "          const element = document.querySelector('#df-a9b4671b-09d2-4071-bb4b-34bac69c8901');\n",
              "          const dataTable =\n",
              "            await google.colab.kernel.invokeFunction('convertToInteractive',\n",
              "                                                     [key], {});\n",
              "          if (!dataTable) return;\n",
              "\n",
              "          const docLinkHtml = 'Like what you see? Visit the ' +\n",
              "            '<a target=\"_blank\" href=https://colab.research.google.com/notebooks/data_table.ipynb>data table notebook</a>'\n",
              "            + ' to learn more about interactive tables.';\n",
              "          element.innerHTML = '';\n",
              "          dataTable['output_type'] = 'display_data';\n",
              "          await google.colab.output.renderOutput(dataTable, element);\n",
              "          const docLink = document.createElement('div');\n",
              "          docLink.innerHTML = docLinkHtml;\n",
              "          element.appendChild(docLink);\n",
              "        }\n",
              "      </script>\n",
              "    </div>\n",
              "  </div>\n",
              "  "
            ]
          },
          "metadata": {},
          "execution_count": 35
        }
      ]
    },
    {
      "cell_type": "markdown",
      "source": [
        "### SNP 합"
      ],
      "metadata": {
        "id": "6JcBTgwJjE48"
      }
    },
    {
      "cell_type": "code",
      "source": [
        "train_x['2_BTA'] = train_x['SNP_01']\n",
        "train_x['chrom_6'] = train_x['SNP_02'] + '-' + train_x['SNP_03'] + '-' + train_x['SNP_04'] + '-' + train_x['SNP_05'] + '-' + train_x['SNP_06'] + '-' + train_x['SNP_07'] + '-' + train_x['SNP_08'] + '-' + train_x['SNP_09']\n",
        "train_x['6_ARS_Parent'] = train_x['SNP_02']\n",
        "train_x['6_ARS_BFGL'] = train_x['SNP_03'] + '-' + train_x['SNP_04'] + '-' + train_x['SNP_09']\n",
        "train_x['6_BOVINE'] = train_x['SNP_05'] + '-' + train_x['SNP_06'] + '-' + train_x['SNP_08']\n",
        "train_x['6_HAPMAP'] = train_x['SNP_07']\n",
        "train_x['7_BTB'] = train_x['SNP_10']\n",
        "train_x['8_ARS'] = train_x['SNP_11']\n",
        "train_x['chrom_9'] = train_x['SNP_12'] + '-' + train_x['SNP_13'] + '-' + train_x['SNP_14']\n",
        "train_x['9_HAPMAP'] = train_x['SNP_12'] + '-' + train_x['SNP_14']\n",
        "train_x['9_BTB'] = train_x['SNP_13']\n",
        "train_x['10_BOVINE'] = train_x['SNP_15']\n",
        "train_x['SNP_total'] = train_x['SNP_01'] + '-' + train_x['SNP_02'] + '-' + train_x['SNP_03'] + '-' + train_x['SNP_04'] + '-' + train_x['SNP_05'] + '-' + train_x['SNP_06'] + '-' + train_x['SNP_07'] + '-' + train_x['SNP_08'] + '-' + train_x['SNP_09'] + '-' + train_x['SNP_10'] + '-' + train_x['SNP_11'] + '-' + train_x['SNP_12'] + '-' + train_x['SNP_13'] + '-' + train_x['SNP_14'] + '-' + train_x['SNP_15']  "
      ],
      "metadata": {
        "id": "AVmAlZFWjHDb"
      },
      "execution_count": 40,
      "outputs": []
    },
    {
      "cell_type": "code",
      "source": [
        "test_x['2_BTA'] = test_x['SNP_01']\n",
        "test_x['chrom_6'] = test_x['SNP_02'] + '-' + test_x['SNP_03'] + '-' + test_x['SNP_04'] + '-' + test_x['SNP_05'] + '-' + test_x['SNP_06'] + '-' + test_x['SNP_07'] + '-' + test_x['SNP_08'] + '-' + test_x['SNP_09']\n",
        "test_x['6_ARS_Parent'] = test_x['SNP_02']\n",
        "test_x['6_ARS_BFGL'] = test_x['SNP_03'] + '-' + test_x['SNP_04'] + '-' + test_x['SNP_09']\n",
        "test_x['6_BOVINE'] = test_x['SNP_05'] + '-' + test_x['SNP_06'] + '-' + test_x['SNP_08']\n",
        "test_x['6_HAPMAP'] = test_x['SNP_07']\n",
        "test_x['7_BTB'] = test_x['SNP_10']\n",
        "test_x['8_ARS'] = test_x['SNP_11']\n",
        "test_x['chrom_9'] = test_x['SNP_12'] + '-' + test_x['SNP_13'] + '-' + test_x['SNP_14']\n",
        "test_x['9_HAPMAP'] = test_x['SNP_12'] + '-' + test_x['SNP_14']\n",
        "test_x['9_BTB'] = test_x['SNP_13']\n",
        "test_x['10_BOVINE'] = test_x['SNP_15']\n",
        "test_x['SNP_total'] = test_x['SNP_01'] + '-' + test_x['SNP_02'] + '-' + test_x['SNP_03'] + '-' + test_x['SNP_04'] + '-' + test_x['SNP_05'] + '-' + test_x['SNP_06'] + '-' + test_x['SNP_07'] + '-' + test_x['SNP_08'] + '-' + test_x['SNP_09'] + '-' + test_x['SNP_10'] + '-' + test_x['SNP_11'] + '-' + test_x['SNP_12'] + '-' + test_x['SNP_13'] + '-' + test_x['SNP_14'] + '-' + test_x['SNP_15'] "
      ],
      "metadata": {
        "id": "RVSpBVk3jPC9"
      },
      "execution_count": 41,
      "outputs": []
    },
    {
      "cell_type": "markdown",
      "source": [
        "### 공백 제거"
      ],
      "metadata": {
        "id": "xZanD2_Tm67t"
      }
    },
    {
      "cell_type": "code",
      "source": [
        "# 공백을 제거해주는 함수\n",
        "def blank(data_tr, data_te, columns):\n",
        "    for i in columns:\n",
        "        data_tr[i] = data_tr[i].apply(lambda x : x.replace(\" \", \"\"))\n",
        "        data_te[i] = data_te[i].apply(lambda x : x.replace(\" \", \"\"))\n",
        "    return data_tr, data_te"
      ],
      "metadata": {
        "id": "fDl7OKI1m8iX"
      },
      "execution_count": 42,
      "outputs": []
    },
    {
      "cell_type": "code",
      "source": [
        "columns = train_x.iloc[:,16:].columns.to_list()\n",
        "train_x.iloc[:, 16:], test_x.iloc[:, 16:] = blank(train_x.iloc[:,16:], test_x.iloc[:,16:], columns)"
      ],
      "metadata": {
        "id": "wzNZd1J0nQki"
      },
      "execution_count": 49,
      "outputs": []
    },
    {
      "cell_type": "markdown",
      "source": [
        "### SNP A,C,G 값 개수"
      ],
      "metadata": {
        "id": "pAUJhczsn-Q-"
      }
    },
    {
      "cell_type": "code",
      "source": [
        "train_x['concat'] = train_x.iloc[:,1:16].sum(axis=1).apply(lambda x : x.replace(\" \",\"\"))\n",
        "train_x['numGC'] = train_x['concat'].apply(lambda x : x.count('C') + x.count('G'))\n",
        "train_x['numA'] = train_x['concat'].apply(lambda x : x.count('A'))\n",
        "train_x['numGC^2'] = train_x['numGC']**2\n",
        "train_x['sub'] = train_x['numGC'] - train_x['numA']\n",
        "train_x['H'] = train_x['numGC']*3 + train_x['numA']*2"
      ],
      "metadata": {
        "id": "X4kn3FcMoiKN"
      },
      "execution_count": 59,
      "outputs": []
    },
    {
      "cell_type": "code",
      "source": [
        "test_x['concat'] = test_x.iloc[:,1:16].sum(axis=1).apply(lambda x : x.replace(\" \",\"\"))\n",
        "test_x['numGC'] = test_x['concat'].apply(lambda x : x.count('C')+x.count('G'))\n",
        "test_x['numA'] = test_x['concat'].apply(lambda x : x.count('A'))\n",
        "test_x['numGC^2'] = test_x['numGC']**2\n",
        "test_x['sub'] = test_x['numGC'] - test_x['numA']\n",
        "test_x['H'] = test_x['numGC']*3 + test_x['numA']*2"
      ],
      "metadata": {
        "id": "1K9yP72oo62f"
      },
      "execution_count": 60,
      "outputs": []
    },
    {
      "cell_type": "markdown",
      "source": [
        "### trait 변수 type 변환"
      ],
      "metadata": {
        "id": "nd1SHy6fp8Me"
      }
    },
    {
      "cell_type": "code",
      "source": [
        "train_x['trait'] = train_x['trait'].astype('object')\n",
        "test_x['trait'] = test_x['trait'].astype('object')"
      ],
      "metadata": {
        "id": "QPETlBgppgys"
      },
      "execution_count": 61,
      "outputs": []
    },
    {
      "cell_type": "markdown",
      "source": [
        "### 범주형, 수치형 피처 구분"
      ],
      "metadata": {
        "id": "vimUoe8Mp_tJ"
      }
    },
    {
      "cell_type": "code",
      "source": [
        "cat_features = train_x.select_dtypes(include=['object']).columns.to_list()\n",
        "num_features = train_x.select_dtypes(exclude=['object']).columns.to_list()"
      ],
      "metadata": {
        "id": "DVBv6AQrp-d9"
      },
      "execution_count": 64,
      "outputs": []
    },
    {
      "cell_type": "markdown",
      "source": [
        "## Scaling"
      ],
      "metadata": {
        "id": "Z7M46YQaqPKW"
      }
    },
    {
      "cell_type": "code",
      "source": [
        "scaler = StandardScaler()\n",
        "train_x[num_features] = scaler.fit_transform(train_x[num_features])\n",
        "test_x[num_features] = scaler.transform(test_x[num_features])"
      ],
      "metadata": {
        "id": "uyIljl8SqINm"
      },
      "execution_count": 65,
      "outputs": []
    },
    {
      "cell_type": "markdown",
      "source": [
        "## Encoding\n",
        "https://contrib.scikit-learn.org/category_encoders/"
      ],
      "metadata": {
        "id": "J7IbbAIQqYi2"
      }
    },
    {
      "cell_type": "code",
      "source": [
        "def catboost_encoder_multiclass(X,X_t,y):\n",
        "    y = y.astype(str)\n",
        "    enc = ce.OneHotEncoder().fit(y)  # category_encoders 사용하여 fit\n",
        "    y_onehot = enc.transform(y)  # target 범주 수만큼의 컬럼을 가진 0, 1로 변환된 DataFrame 형태\n",
        "    class_names = y_onehot.columns  # ['class_1', 'class_2', 'class_3']\n",
        "    X_obj = X.select_dtypes('object')  # X_train 범주형\n",
        "    X_t_obj = X_t.select_dtypes('object')  # X_test 범주형\n",
        "    X = X.select_dtypes(exclude='object')  # X_train 수치형\n",
        "    X_t = X_t.select_dtypes(exclude='object')   # X_test 수치형\n",
        "\n",
        "    for class_ in class_names:  # class_1, class_2, class_3\n",
        "        enc = ce.CatBoostEncoder()\n",
        "        enc.fit(X_obj, y_onehot[class_])\n",
        "        temp = enc.transform(X_obj)  # 각 컬럼당 각 class_에 대한 컬럼이 생성된 DataFrame 형태 -> value는 수치형\n",
        "        temp_t = enc.transform(X_t_obj)\n",
        "        temp.columns = [str(x)+'_'+str(class_) for x in temp.columns]\n",
        "        temp_t.columns = [str(x)+'_'+str(class_) for x in temp_t.columns]\n",
        "        X = pd.concat([X,temp],axis=1)  # 수치형 X와 encoding한 temp를 병합\n",
        "        X_t = pd.concat([X_t,temp_t],axis=1)\n",
        "\n",
        "    return X, X_t"
      ],
      "metadata": {
        "id": "S1lOe2haqWCS"
      },
      "execution_count": 83,
      "outputs": []
    },
    {
      "cell_type": "code",
      "source": [
        "train_x, test_x = catboost_encoder_multiclass(train_x,test_x,train_y)"
      ],
      "metadata": {
        "id": "38VIcvbsrY2a"
      },
      "execution_count": 84,
      "outputs": []
    },
    {
      "cell_type": "code",
      "source": [
        "train_x.head()"
      ],
      "metadata": {
        "colab": {
          "base_uri": "https://localhost:8080/",
          "height": 300
        },
        "id": "NcTFPPMKradP",
        "outputId": "990b4c1e-75f8-478a-d53c-80bf0f4934c2"
      },
      "execution_count": 85,
      "outputs": [
        {
          "output_type": "execute_result",
          "data": {
            "text/plain": [
              "      numGC      numA   numGC^2       sub         H  trait_class_1  \\\n",
              "0 -0.986104  0.986104 -0.980678 -0.986104 -0.986104       0.589872   \n",
              "1 -1.270327  1.270327 -1.179312 -1.270327 -1.270327       0.589872   \n",
              "2 -0.417657  0.417657 -0.520685 -0.417657 -0.417657       0.589872   \n",
              "3  1.287685 -1.287685  1.361107  1.287685  1.287685       0.006216   \n",
              "4 -0.417657  0.417657 -0.520685 -0.417657 -0.417657       0.589872   \n",
              "\n",
              "   SNP_01_class_1  SNP_02_class_1  SNP_03_class_1  SNP_04_class_1  ...  \\\n",
              "0        0.629825        0.596277        0.198659        0.568459  ...   \n",
              "1        0.353265        0.596277        0.639087        0.400290  ...   \n",
              "2        0.629825        0.343441        0.198659        0.568459  ...   \n",
              "3        0.008532        0.343441        0.198659        0.568459  ...   \n",
              "4        0.629825        0.343441        0.641533        0.400290  ...   \n",
              "\n",
              "   6_BOVINE_class_3  6_HAPMAP_class_3  7_BTB_class_3  8_ARS_class_3  \\\n",
              "0          0.052672          0.001606       0.021469       0.136736   \n",
              "1          0.107779          0.001606       0.496570       0.003135   \n",
              "2          0.043893          0.001606       0.496570       0.003135   \n",
              "3          0.934842          0.985834       0.496570       0.669802   \n",
              "4          0.043893          0.001606       0.021469       0.003135   \n",
              "\n",
              "   chrom_9_class_3  9_HAPMAP_class_3  9_BTB_class_3  10_BOVINE_class_3  \\\n",
              "0         0.007118          0.010441       0.004969           0.039476   \n",
              "1         0.191962          0.060433       0.571236           0.039476   \n",
              "2         0.007118          0.010441       0.004969           0.039476   \n",
              "3         0.726336          0.558720       0.571236           0.790417   \n",
              "4         0.004788          0.010441       0.033993           0.210528   \n",
              "\n",
              "   SNP_total_class_3  concat_class_3  \n",
              "0           0.263359        0.263359  \n",
              "1           0.263359        0.263359  \n",
              "2           0.263359        0.263359  \n",
              "3           0.754453        0.754453  \n",
              "4           0.263359        0.263359  \n",
              "\n",
              "[5 rows x 95 columns]"
            ],
            "text/html": [
              "\n",
              "  <div id=\"df-c130214f-7942-4f04-af28-dfa83ea62b4e\">\n",
              "    <div class=\"colab-df-container\">\n",
              "      <div>\n",
              "<style scoped>\n",
              "    .dataframe tbody tr th:only-of-type {\n",
              "        vertical-align: middle;\n",
              "    }\n",
              "\n",
              "    .dataframe tbody tr th {\n",
              "        vertical-align: top;\n",
              "    }\n",
              "\n",
              "    .dataframe thead th {\n",
              "        text-align: right;\n",
              "    }\n",
              "</style>\n",
              "<table border=\"1\" class=\"dataframe\">\n",
              "  <thead>\n",
              "    <tr style=\"text-align: right;\">\n",
              "      <th></th>\n",
              "      <th>numGC</th>\n",
              "      <th>numA</th>\n",
              "      <th>numGC^2</th>\n",
              "      <th>sub</th>\n",
              "      <th>H</th>\n",
              "      <th>trait_class_1</th>\n",
              "      <th>SNP_01_class_1</th>\n",
              "      <th>SNP_02_class_1</th>\n",
              "      <th>SNP_03_class_1</th>\n",
              "      <th>SNP_04_class_1</th>\n",
              "      <th>...</th>\n",
              "      <th>6_BOVINE_class_3</th>\n",
              "      <th>6_HAPMAP_class_3</th>\n",
              "      <th>7_BTB_class_3</th>\n",
              "      <th>8_ARS_class_3</th>\n",
              "      <th>chrom_9_class_3</th>\n",
              "      <th>9_HAPMAP_class_3</th>\n",
              "      <th>9_BTB_class_3</th>\n",
              "      <th>10_BOVINE_class_3</th>\n",
              "      <th>SNP_total_class_3</th>\n",
              "      <th>concat_class_3</th>\n",
              "    </tr>\n",
              "  </thead>\n",
              "  <tbody>\n",
              "    <tr>\n",
              "      <th>0</th>\n",
              "      <td>-0.986104</td>\n",
              "      <td>0.986104</td>\n",
              "      <td>-0.980678</td>\n",
              "      <td>-0.986104</td>\n",
              "      <td>-0.986104</td>\n",
              "      <td>0.589872</td>\n",
              "      <td>0.629825</td>\n",
              "      <td>0.596277</td>\n",
              "      <td>0.198659</td>\n",
              "      <td>0.568459</td>\n",
              "      <td>...</td>\n",
              "      <td>0.052672</td>\n",
              "      <td>0.001606</td>\n",
              "      <td>0.021469</td>\n",
              "      <td>0.136736</td>\n",
              "      <td>0.007118</td>\n",
              "      <td>0.010441</td>\n",
              "      <td>0.004969</td>\n",
              "      <td>0.039476</td>\n",
              "      <td>0.263359</td>\n",
              "      <td>0.263359</td>\n",
              "    </tr>\n",
              "    <tr>\n",
              "      <th>1</th>\n",
              "      <td>-1.270327</td>\n",
              "      <td>1.270327</td>\n",
              "      <td>-1.179312</td>\n",
              "      <td>-1.270327</td>\n",
              "      <td>-1.270327</td>\n",
              "      <td>0.589872</td>\n",
              "      <td>0.353265</td>\n",
              "      <td>0.596277</td>\n",
              "      <td>0.639087</td>\n",
              "      <td>0.400290</td>\n",
              "      <td>...</td>\n",
              "      <td>0.107779</td>\n",
              "      <td>0.001606</td>\n",
              "      <td>0.496570</td>\n",
              "      <td>0.003135</td>\n",
              "      <td>0.191962</td>\n",
              "      <td>0.060433</td>\n",
              "      <td>0.571236</td>\n",
              "      <td>0.039476</td>\n",
              "      <td>0.263359</td>\n",
              "      <td>0.263359</td>\n",
              "    </tr>\n",
              "    <tr>\n",
              "      <th>2</th>\n",
              "      <td>-0.417657</td>\n",
              "      <td>0.417657</td>\n",
              "      <td>-0.520685</td>\n",
              "      <td>-0.417657</td>\n",
              "      <td>-0.417657</td>\n",
              "      <td>0.589872</td>\n",
              "      <td>0.629825</td>\n",
              "      <td>0.343441</td>\n",
              "      <td>0.198659</td>\n",
              "      <td>0.568459</td>\n",
              "      <td>...</td>\n",
              "      <td>0.043893</td>\n",
              "      <td>0.001606</td>\n",
              "      <td>0.496570</td>\n",
              "      <td>0.003135</td>\n",
              "      <td>0.007118</td>\n",
              "      <td>0.010441</td>\n",
              "      <td>0.004969</td>\n",
              "      <td>0.039476</td>\n",
              "      <td>0.263359</td>\n",
              "      <td>0.263359</td>\n",
              "    </tr>\n",
              "    <tr>\n",
              "      <th>3</th>\n",
              "      <td>1.287685</td>\n",
              "      <td>-1.287685</td>\n",
              "      <td>1.361107</td>\n",
              "      <td>1.287685</td>\n",
              "      <td>1.287685</td>\n",
              "      <td>0.006216</td>\n",
              "      <td>0.008532</td>\n",
              "      <td>0.343441</td>\n",
              "      <td>0.198659</td>\n",
              "      <td>0.568459</td>\n",
              "      <td>...</td>\n",
              "      <td>0.934842</td>\n",
              "      <td>0.985834</td>\n",
              "      <td>0.496570</td>\n",
              "      <td>0.669802</td>\n",
              "      <td>0.726336</td>\n",
              "      <td>0.558720</td>\n",
              "      <td>0.571236</td>\n",
              "      <td>0.790417</td>\n",
              "      <td>0.754453</td>\n",
              "      <td>0.754453</td>\n",
              "    </tr>\n",
              "    <tr>\n",
              "      <th>4</th>\n",
              "      <td>-0.417657</td>\n",
              "      <td>0.417657</td>\n",
              "      <td>-0.520685</td>\n",
              "      <td>-0.417657</td>\n",
              "      <td>-0.417657</td>\n",
              "      <td>0.589872</td>\n",
              "      <td>0.629825</td>\n",
              "      <td>0.343441</td>\n",
              "      <td>0.641533</td>\n",
              "      <td>0.400290</td>\n",
              "      <td>...</td>\n",
              "      <td>0.043893</td>\n",
              "      <td>0.001606</td>\n",
              "      <td>0.021469</td>\n",
              "      <td>0.003135</td>\n",
              "      <td>0.004788</td>\n",
              "      <td>0.010441</td>\n",
              "      <td>0.033993</td>\n",
              "      <td>0.210528</td>\n",
              "      <td>0.263359</td>\n",
              "      <td>0.263359</td>\n",
              "    </tr>\n",
              "  </tbody>\n",
              "</table>\n",
              "<p>5 rows × 95 columns</p>\n",
              "</div>\n",
              "      <button class=\"colab-df-convert\" onclick=\"convertToInteractive('df-c130214f-7942-4f04-af28-dfa83ea62b4e')\"\n",
              "              title=\"Convert this dataframe to an interactive table.\"\n",
              "              style=\"display:none;\">\n",
              "        \n",
              "  <svg xmlns=\"http://www.w3.org/2000/svg\" height=\"24px\"viewBox=\"0 0 24 24\"\n",
              "       width=\"24px\">\n",
              "    <path d=\"M0 0h24v24H0V0z\" fill=\"none\"/>\n",
              "    <path d=\"M18.56 5.44l.94 2.06.94-2.06 2.06-.94-2.06-.94-.94-2.06-.94 2.06-2.06.94zm-11 1L8.5 8.5l.94-2.06 2.06-.94-2.06-.94L8.5 2.5l-.94 2.06-2.06.94zm10 10l.94 2.06.94-2.06 2.06-.94-2.06-.94-.94-2.06-.94 2.06-2.06.94z\"/><path d=\"M17.41 7.96l-1.37-1.37c-.4-.4-.92-.59-1.43-.59-.52 0-1.04.2-1.43.59L10.3 9.45l-7.72 7.72c-.78.78-.78 2.05 0 2.83L4 21.41c.39.39.9.59 1.41.59.51 0 1.02-.2 1.41-.59l7.78-7.78 2.81-2.81c.8-.78.8-2.07 0-2.86zM5.41 20L4 18.59l7.72-7.72 1.47 1.35L5.41 20z\"/>\n",
              "  </svg>\n",
              "      </button>\n",
              "      \n",
              "  <style>\n",
              "    .colab-df-container {\n",
              "      display:flex;\n",
              "      flex-wrap:wrap;\n",
              "      gap: 12px;\n",
              "    }\n",
              "\n",
              "    .colab-df-convert {\n",
              "      background-color: #E8F0FE;\n",
              "      border: none;\n",
              "      border-radius: 50%;\n",
              "      cursor: pointer;\n",
              "      display: none;\n",
              "      fill: #1967D2;\n",
              "      height: 32px;\n",
              "      padding: 0 0 0 0;\n",
              "      width: 32px;\n",
              "    }\n",
              "\n",
              "    .colab-df-convert:hover {\n",
              "      background-color: #E2EBFA;\n",
              "      box-shadow: 0px 1px 2px rgba(60, 64, 67, 0.3), 0px 1px 3px 1px rgba(60, 64, 67, 0.15);\n",
              "      fill: #174EA6;\n",
              "    }\n",
              "\n",
              "    [theme=dark] .colab-df-convert {\n",
              "      background-color: #3B4455;\n",
              "      fill: #D2E3FC;\n",
              "    }\n",
              "\n",
              "    [theme=dark] .colab-df-convert:hover {\n",
              "      background-color: #434B5C;\n",
              "      box-shadow: 0px 1px 3px 1px rgba(0, 0, 0, 0.15);\n",
              "      filter: drop-shadow(0px 1px 2px rgba(0, 0, 0, 0.3));\n",
              "      fill: #FFFFFF;\n",
              "    }\n",
              "  </style>\n",
              "\n",
              "      <script>\n",
              "        const buttonEl =\n",
              "          document.querySelector('#df-c130214f-7942-4f04-af28-dfa83ea62b4e button.colab-df-convert');\n",
              "        buttonEl.style.display =\n",
              "          google.colab.kernel.accessAllowed ? 'block' : 'none';\n",
              "\n",
              "        async function convertToInteractive(key) {\n",
              "          const element = document.querySelector('#df-c130214f-7942-4f04-af28-dfa83ea62b4e');\n",
              "          const dataTable =\n",
              "            await google.colab.kernel.invokeFunction('convertToInteractive',\n",
              "                                                     [key], {});\n",
              "          if (!dataTable) return;\n",
              "\n",
              "          const docLinkHtml = 'Like what you see? Visit the ' +\n",
              "            '<a target=\"_blank\" href=https://colab.research.google.com/notebooks/data_table.ipynb>data table notebook</a>'\n",
              "            + ' to learn more about interactive tables.';\n",
              "          element.innerHTML = '';\n",
              "          dataTable['output_type'] = 'display_data';\n",
              "          await google.colab.output.renderOutput(dataTable, element);\n",
              "          const docLink = document.createElement('div');\n",
              "          docLink.innerHTML = docLinkHtml;\n",
              "          element.appendChild(docLink);\n",
              "        }\n",
              "      </script>\n",
              "    </div>\n",
              "  </div>\n",
              "  "
            ]
          },
          "metadata": {},
          "execution_count": 85
        }
      ]
    },
    {
      "cell_type": "code",
      "source": [
        "test_x.head()"
      ],
      "metadata": {
        "colab": {
          "base_uri": "https://localhost:8080/",
          "height": 300
        },
        "id": "EqwyTYsZuOUv",
        "outputId": "c47ffcec-308f-42af-b9ec-03d17e516dcc"
      },
      "execution_count": 86,
      "outputs": [
        {
          "output_type": "execute_result",
          "data": {
            "text/plain": [
              "      numGC      numA   numGC^2       sub         H  trait_class_1  \\\n",
              "0  0.719237 -0.719237  0.650208  0.719237  0.719237       0.006216   \n",
              "1 -0.417657  0.417657 -0.520685 -0.417657 -0.417657       0.589872   \n",
              "2 -0.701880  0.701880 -0.761136 -0.701880 -0.701880       0.589872   \n",
              "3 -0.986104  0.986104 -0.980678 -0.986104 -0.986104       0.589872   \n",
              "4  1.287685 -1.287685  1.361107  1.287685  1.287685       0.006216   \n",
              "\n",
              "   SNP_01_class_1  SNP_02_class_1  SNP_03_class_1  SNP_04_class_1  ...  \\\n",
              "0        0.353265        0.343441        0.198659        0.568459  ...   \n",
              "1        0.629825        0.596277        0.641533        0.268702  ...   \n",
              "2        0.629825        0.596277        0.198659        0.400290  ...   \n",
              "3        0.629825        0.596277        0.639087        0.400290  ...   \n",
              "4        0.008532        0.343441        0.198659        0.268702  ...   \n",
              "\n",
              "   6_BOVINE_class_3  6_HAPMAP_class_3  7_BTB_class_3  8_ARS_class_3  \\\n",
              "0          0.107779          0.985834       0.496570       0.136736   \n",
              "1          0.043893          0.001606       0.021469       0.136736   \n",
              "2          0.536350          0.001606       0.496570       0.003135   \n",
              "3          0.043893          0.001606       0.021469       0.003135   \n",
              "4          0.934842          0.985834       0.496570       0.669802   \n",
              "\n",
              "   chrom_9_class_3  9_HAPMAP_class_3  9_BTB_class_3  10_BOVINE_class_3  \\\n",
              "0         0.891460          0.803335       0.571236           0.210528   \n",
              "1         0.007118          0.010441       0.004969           0.039476   \n",
              "2         0.191962          0.060433       0.571236           0.790417   \n",
              "3         0.010129          0.060433       0.033993           0.039476   \n",
              "4         0.191962          0.060433       0.571236           0.790417   \n",
              "\n",
              "   SNP_total_class_3  concat_class_3  \n",
              "0           0.263359        0.263359  \n",
              "1           0.263359        0.263359  \n",
              "2           0.263359        0.263359  \n",
              "3           0.263359        0.263359  \n",
              "4           0.263359        0.263359  \n",
              "\n",
              "[5 rows x 95 columns]"
            ],
            "text/html": [
              "\n",
              "  <div id=\"df-a0c6fb6b-bb3a-4e60-846a-383e44986f8c\">\n",
              "    <div class=\"colab-df-container\">\n",
              "      <div>\n",
              "<style scoped>\n",
              "    .dataframe tbody tr th:only-of-type {\n",
              "        vertical-align: middle;\n",
              "    }\n",
              "\n",
              "    .dataframe tbody tr th {\n",
              "        vertical-align: top;\n",
              "    }\n",
              "\n",
              "    .dataframe thead th {\n",
              "        text-align: right;\n",
              "    }\n",
              "</style>\n",
              "<table border=\"1\" class=\"dataframe\">\n",
              "  <thead>\n",
              "    <tr style=\"text-align: right;\">\n",
              "      <th></th>\n",
              "      <th>numGC</th>\n",
              "      <th>numA</th>\n",
              "      <th>numGC^2</th>\n",
              "      <th>sub</th>\n",
              "      <th>H</th>\n",
              "      <th>trait_class_1</th>\n",
              "      <th>SNP_01_class_1</th>\n",
              "      <th>SNP_02_class_1</th>\n",
              "      <th>SNP_03_class_1</th>\n",
              "      <th>SNP_04_class_1</th>\n",
              "      <th>...</th>\n",
              "      <th>6_BOVINE_class_3</th>\n",
              "      <th>6_HAPMAP_class_3</th>\n",
              "      <th>7_BTB_class_3</th>\n",
              "      <th>8_ARS_class_3</th>\n",
              "      <th>chrom_9_class_3</th>\n",
              "      <th>9_HAPMAP_class_3</th>\n",
              "      <th>9_BTB_class_3</th>\n",
              "      <th>10_BOVINE_class_3</th>\n",
              "      <th>SNP_total_class_3</th>\n",
              "      <th>concat_class_3</th>\n",
              "    </tr>\n",
              "  </thead>\n",
              "  <tbody>\n",
              "    <tr>\n",
              "      <th>0</th>\n",
              "      <td>0.719237</td>\n",
              "      <td>-0.719237</td>\n",
              "      <td>0.650208</td>\n",
              "      <td>0.719237</td>\n",
              "      <td>0.719237</td>\n",
              "      <td>0.006216</td>\n",
              "      <td>0.353265</td>\n",
              "      <td>0.343441</td>\n",
              "      <td>0.198659</td>\n",
              "      <td>0.568459</td>\n",
              "      <td>...</td>\n",
              "      <td>0.107779</td>\n",
              "      <td>0.985834</td>\n",
              "      <td>0.496570</td>\n",
              "      <td>0.136736</td>\n",
              "      <td>0.891460</td>\n",
              "      <td>0.803335</td>\n",
              "      <td>0.571236</td>\n",
              "      <td>0.210528</td>\n",
              "      <td>0.263359</td>\n",
              "      <td>0.263359</td>\n",
              "    </tr>\n",
              "    <tr>\n",
              "      <th>1</th>\n",
              "      <td>-0.417657</td>\n",
              "      <td>0.417657</td>\n",
              "      <td>-0.520685</td>\n",
              "      <td>-0.417657</td>\n",
              "      <td>-0.417657</td>\n",
              "      <td>0.589872</td>\n",
              "      <td>0.629825</td>\n",
              "      <td>0.596277</td>\n",
              "      <td>0.641533</td>\n",
              "      <td>0.268702</td>\n",
              "      <td>...</td>\n",
              "      <td>0.043893</td>\n",
              "      <td>0.001606</td>\n",
              "      <td>0.021469</td>\n",
              "      <td>0.136736</td>\n",
              "      <td>0.007118</td>\n",
              "      <td>0.010441</td>\n",
              "      <td>0.004969</td>\n",
              "      <td>0.039476</td>\n",
              "      <td>0.263359</td>\n",
              "      <td>0.263359</td>\n",
              "    </tr>\n",
              "    <tr>\n",
              "      <th>2</th>\n",
              "      <td>-0.701880</td>\n",
              "      <td>0.701880</td>\n",
              "      <td>-0.761136</td>\n",
              "      <td>-0.701880</td>\n",
              "      <td>-0.701880</td>\n",
              "      <td>0.589872</td>\n",
              "      <td>0.629825</td>\n",
              "      <td>0.596277</td>\n",
              "      <td>0.198659</td>\n",
              "      <td>0.400290</td>\n",
              "      <td>...</td>\n",
              "      <td>0.536350</td>\n",
              "      <td>0.001606</td>\n",
              "      <td>0.496570</td>\n",
              "      <td>0.003135</td>\n",
              "      <td>0.191962</td>\n",
              "      <td>0.060433</td>\n",
              "      <td>0.571236</td>\n",
              "      <td>0.790417</td>\n",
              "      <td>0.263359</td>\n",
              "      <td>0.263359</td>\n",
              "    </tr>\n",
              "    <tr>\n",
              "      <th>3</th>\n",
              "      <td>-0.986104</td>\n",
              "      <td>0.986104</td>\n",
              "      <td>-0.980678</td>\n",
              "      <td>-0.986104</td>\n",
              "      <td>-0.986104</td>\n",
              "      <td>0.589872</td>\n",
              "      <td>0.629825</td>\n",
              "      <td>0.596277</td>\n",
              "      <td>0.639087</td>\n",
              "      <td>0.400290</td>\n",
              "      <td>...</td>\n",
              "      <td>0.043893</td>\n",
              "      <td>0.001606</td>\n",
              "      <td>0.021469</td>\n",
              "      <td>0.003135</td>\n",
              "      <td>0.010129</td>\n",
              "      <td>0.060433</td>\n",
              "      <td>0.033993</td>\n",
              "      <td>0.039476</td>\n",
              "      <td>0.263359</td>\n",
              "      <td>0.263359</td>\n",
              "    </tr>\n",
              "    <tr>\n",
              "      <th>4</th>\n",
              "      <td>1.287685</td>\n",
              "      <td>-1.287685</td>\n",
              "      <td>1.361107</td>\n",
              "      <td>1.287685</td>\n",
              "      <td>1.287685</td>\n",
              "      <td>0.006216</td>\n",
              "      <td>0.008532</td>\n",
              "      <td>0.343441</td>\n",
              "      <td>0.198659</td>\n",
              "      <td>0.268702</td>\n",
              "      <td>...</td>\n",
              "      <td>0.934842</td>\n",
              "      <td>0.985834</td>\n",
              "      <td>0.496570</td>\n",
              "      <td>0.669802</td>\n",
              "      <td>0.191962</td>\n",
              "      <td>0.060433</td>\n",
              "      <td>0.571236</td>\n",
              "      <td>0.790417</td>\n",
              "      <td>0.263359</td>\n",
              "      <td>0.263359</td>\n",
              "    </tr>\n",
              "  </tbody>\n",
              "</table>\n",
              "<p>5 rows × 95 columns</p>\n",
              "</div>\n",
              "      <button class=\"colab-df-convert\" onclick=\"convertToInteractive('df-a0c6fb6b-bb3a-4e60-846a-383e44986f8c')\"\n",
              "              title=\"Convert this dataframe to an interactive table.\"\n",
              "              style=\"display:none;\">\n",
              "        \n",
              "  <svg xmlns=\"http://www.w3.org/2000/svg\" height=\"24px\"viewBox=\"0 0 24 24\"\n",
              "       width=\"24px\">\n",
              "    <path d=\"M0 0h24v24H0V0z\" fill=\"none\"/>\n",
              "    <path d=\"M18.56 5.44l.94 2.06.94-2.06 2.06-.94-2.06-.94-.94-2.06-.94 2.06-2.06.94zm-11 1L8.5 8.5l.94-2.06 2.06-.94-2.06-.94L8.5 2.5l-.94 2.06-2.06.94zm10 10l.94 2.06.94-2.06 2.06-.94-2.06-.94-.94-2.06-.94 2.06-2.06.94z\"/><path d=\"M17.41 7.96l-1.37-1.37c-.4-.4-.92-.59-1.43-.59-.52 0-1.04.2-1.43.59L10.3 9.45l-7.72 7.72c-.78.78-.78 2.05 0 2.83L4 21.41c.39.39.9.59 1.41.59.51 0 1.02-.2 1.41-.59l7.78-7.78 2.81-2.81c.8-.78.8-2.07 0-2.86zM5.41 20L4 18.59l7.72-7.72 1.47 1.35L5.41 20z\"/>\n",
              "  </svg>\n",
              "      </button>\n",
              "      \n",
              "  <style>\n",
              "    .colab-df-container {\n",
              "      display:flex;\n",
              "      flex-wrap:wrap;\n",
              "      gap: 12px;\n",
              "    }\n",
              "\n",
              "    .colab-df-convert {\n",
              "      background-color: #E8F0FE;\n",
              "      border: none;\n",
              "      border-radius: 50%;\n",
              "      cursor: pointer;\n",
              "      display: none;\n",
              "      fill: #1967D2;\n",
              "      height: 32px;\n",
              "      padding: 0 0 0 0;\n",
              "      width: 32px;\n",
              "    }\n",
              "\n",
              "    .colab-df-convert:hover {\n",
              "      background-color: #E2EBFA;\n",
              "      box-shadow: 0px 1px 2px rgba(60, 64, 67, 0.3), 0px 1px 3px 1px rgba(60, 64, 67, 0.15);\n",
              "      fill: #174EA6;\n",
              "    }\n",
              "\n",
              "    [theme=dark] .colab-df-convert {\n",
              "      background-color: #3B4455;\n",
              "      fill: #D2E3FC;\n",
              "    }\n",
              "\n",
              "    [theme=dark] .colab-df-convert:hover {\n",
              "      background-color: #434B5C;\n",
              "      box-shadow: 0px 1px 3px 1px rgba(0, 0, 0, 0.15);\n",
              "      filter: drop-shadow(0px 1px 2px rgba(0, 0, 0, 0.3));\n",
              "      fill: #FFFFFF;\n",
              "    }\n",
              "  </style>\n",
              "\n",
              "      <script>\n",
              "        const buttonEl =\n",
              "          document.querySelector('#df-a0c6fb6b-bb3a-4e60-846a-383e44986f8c button.colab-df-convert');\n",
              "        buttonEl.style.display =\n",
              "          google.colab.kernel.accessAllowed ? 'block' : 'none';\n",
              "\n",
              "        async function convertToInteractive(key) {\n",
              "          const element = document.querySelector('#df-a0c6fb6b-bb3a-4e60-846a-383e44986f8c');\n",
              "          const dataTable =\n",
              "            await google.colab.kernel.invokeFunction('convertToInteractive',\n",
              "                                                     [key], {});\n",
              "          if (!dataTable) return;\n",
              "\n",
              "          const docLinkHtml = 'Like what you see? Visit the ' +\n",
              "            '<a target=\"_blank\" href=https://colab.research.google.com/notebooks/data_table.ipynb>data table notebook</a>'\n",
              "            + ' to learn more about interactive tables.';\n",
              "          element.innerHTML = '';\n",
              "          dataTable['output_type'] = 'display_data';\n",
              "          await google.colab.output.renderOutput(dataTable, element);\n",
              "          const docLink = document.createElement('div');\n",
              "          docLink.innerHTML = docLinkHtml;\n",
              "          element.appendChild(docLink);\n",
              "        }\n",
              "      </script>\n",
              "    </div>\n",
              "  </div>\n",
              "  "
            ]
          },
          "metadata": {},
          "execution_count": 86
        }
      ]
    },
    {
      "cell_type": "markdown",
      "source": [
        "## SMOTE"
      ],
      "metadata": {
        "id": "HLnXf5uBuRP4"
      }
    },
    {
      "cell_type": "code",
      "source": [
        "# Class 불균형 문제 해결\n",
        "train_x, train_y = BorderlineSMOTE(random_state=CFG.SEED).fit_resample(train_x, train_y)"
      ],
      "metadata": {
        "id": "TgFpZdTbuPO9"
      },
      "execution_count": 87,
      "outputs": []
    },
    {
      "cell_type": "markdown",
      "source": [
        "## Target Label-Encoding"
      ],
      "metadata": {
        "id": "oPwHgjVsufmn"
      }
    },
    {
      "cell_type": "code",
      "source": [
        "class_le = LabelEncoder()\n",
        "train_y = class_le.fit_transform(train_y)"
      ],
      "metadata": {
        "id": "7mIrSf2bucON"
      },
      "execution_count": 88,
      "outputs": []
    },
    {
      "cell_type": "markdown",
      "source": [
        "## Modeling & Ensemble"
      ],
      "metadata": {
        "id": "5zqwW9mgujbx"
      }
    },
    {
      "cell_type": "code",
      "source": [
        "# Submission file 준비\n",
        "submit = pd.read_csv(DATA_PATH  + 'sample_submission.csv')"
      ],
      "metadata": {
        "id": "RqB_-cxiuiAE"
      },
      "execution_count": 89,
      "outputs": []
    },
    {
      "cell_type": "code",
      "source": [
        "# Model Selection -> 여러 모델링 실험결과 종류가 다른 모델 여러개를 앙상블 하는 것이 좋다 판단함\n",
        "models = [\n",
        "    ('bag', BaggingClassifier(random_state=CFG.SEED)),\n",
        "    ('dt', DecisionTreeClassifier(random_state=CFG.SEED)),\n",
        "    ('rc', RidgeClassifier(random_state=CFG.SEED)),\n",
        "    ('xgb', XGBClassifier(random_state=CFG.SEED)),\n",
        "    ('lgb', LGBMClassifier(random_state=CFG.SEED)),\n",
        "    ('gb', GradientBoostingClassifier(random_state=CFG.SEED)),\n",
        "    ('svc', SVC(random_state=CFG.SEED)),\n",
        "    ('rcc', RidgeClassifierCV()),\n",
        "    ('rf', RandomForestClassifier(random_state=CFG.SEED))\n",
        "]"
      ],
      "metadata": {
        "id": "NFYUQ0Mpumrx"
      },
      "execution_count": 90,
      "outputs": []
    },
    {
      "cell_type": "code",
      "source": [
        "# 최종모델은 Votingclassifier 사용하여 ensemble -> 제출결과 public score기준 XGBClassifier와 RandomForestClassifier 성능이 좋아 가중치를 주었음\n",
        "best_model  = VotingClassifier(models, voting='hard', weights=[1,1,1,2,1,1,1,1,2])\n",
        "best_model.fit(train_x,train_y)"
      ],
      "metadata": {
        "colab": {
          "base_uri": "https://localhost:8080/"
        },
        "id": "P_OBIfDhvKTM",
        "outputId": "52648400-d3ed-45e0-d718-1d52e75e0787"
      },
      "execution_count": 91,
      "outputs": [
        {
          "output_type": "execute_result",
          "data": {
            "text/plain": [
              "VotingClassifier(estimators=[('bag', BaggingClassifier(random_state=26)),\n",
              "                             ('dt', DecisionTreeClassifier(random_state=26)),\n",
              "                             ('rc', RidgeClassifier(random_state=26)),\n",
              "                             ('xgb', XGBClassifier(random_state=26)),\n",
              "                             ('lgb', LGBMClassifier(random_state=26)),\n",
              "                             ('gb',\n",
              "                              GradientBoostingClassifier(random_state=26)),\n",
              "                             ('svc', SVC(random_state=26)),\n",
              "                             ('rcc',\n",
              "                              RidgeClassifierCV(alphas=array([ 0.1,  1. , 10. ]))),\n",
              "                             ('rf', RandomForestClassifier(random_state=26))],\n",
              "                 weights=[1, 1, 1, 2, 1, 1, 1, 1, 2])"
            ]
          },
          "metadata": {},
          "execution_count": 91
        }
      ]
    },
    {
      "cell_type": "code",
      "source": [
        "# test predict\n",
        "pred = class_le.inverse_transform(best_model.predict(test_x))\n",
        "submit['class'] = pred"
      ],
      "metadata": {
        "id": "mtZ-xR7lvO4l"
      },
      "execution_count": 93,
      "outputs": []
    },
    {
      "cell_type": "code",
      "source": [
        "submit"
      ],
      "metadata": {
        "colab": {
          "base_uri": "https://localhost:8080/",
          "height": 424
        },
        "id": "-tl5jvdrvVkg",
        "outputId": "7a7f08c0-aed1-4ec4-b1b2-c226d6c6f37b"
      },
      "execution_count": 94,
      "outputs": [
        {
          "output_type": "execute_result",
          "data": {
            "text/plain": [
              "           id class\n",
              "0    TEST_000     A\n",
              "1    TEST_001     B\n",
              "2    TEST_002     C\n",
              "3    TEST_003     C\n",
              "4    TEST_004     A\n",
              "..        ...   ...\n",
              "170  TEST_170     B\n",
              "171  TEST_171     C\n",
              "172  TEST_172     C\n",
              "173  TEST_173     B\n",
              "174  TEST_174     B\n",
              "\n",
              "[175 rows x 2 columns]"
            ],
            "text/html": [
              "\n",
              "  <div id=\"df-96551c71-e109-4cfe-be14-d77592d76155\">\n",
              "    <div class=\"colab-df-container\">\n",
              "      <div>\n",
              "<style scoped>\n",
              "    .dataframe tbody tr th:only-of-type {\n",
              "        vertical-align: middle;\n",
              "    }\n",
              "\n",
              "    .dataframe tbody tr th {\n",
              "        vertical-align: top;\n",
              "    }\n",
              "\n",
              "    .dataframe thead th {\n",
              "        text-align: right;\n",
              "    }\n",
              "</style>\n",
              "<table border=\"1\" class=\"dataframe\">\n",
              "  <thead>\n",
              "    <tr style=\"text-align: right;\">\n",
              "      <th></th>\n",
              "      <th>id</th>\n",
              "      <th>class</th>\n",
              "    </tr>\n",
              "  </thead>\n",
              "  <tbody>\n",
              "    <tr>\n",
              "      <th>0</th>\n",
              "      <td>TEST_000</td>\n",
              "      <td>A</td>\n",
              "    </tr>\n",
              "    <tr>\n",
              "      <th>1</th>\n",
              "      <td>TEST_001</td>\n",
              "      <td>B</td>\n",
              "    </tr>\n",
              "    <tr>\n",
              "      <th>2</th>\n",
              "      <td>TEST_002</td>\n",
              "      <td>C</td>\n",
              "    </tr>\n",
              "    <tr>\n",
              "      <th>3</th>\n",
              "      <td>TEST_003</td>\n",
              "      <td>C</td>\n",
              "    </tr>\n",
              "    <tr>\n",
              "      <th>4</th>\n",
              "      <td>TEST_004</td>\n",
              "      <td>A</td>\n",
              "    </tr>\n",
              "    <tr>\n",
              "      <th>...</th>\n",
              "      <td>...</td>\n",
              "      <td>...</td>\n",
              "    </tr>\n",
              "    <tr>\n",
              "      <th>170</th>\n",
              "      <td>TEST_170</td>\n",
              "      <td>B</td>\n",
              "    </tr>\n",
              "    <tr>\n",
              "      <th>171</th>\n",
              "      <td>TEST_171</td>\n",
              "      <td>C</td>\n",
              "    </tr>\n",
              "    <tr>\n",
              "      <th>172</th>\n",
              "      <td>TEST_172</td>\n",
              "      <td>C</td>\n",
              "    </tr>\n",
              "    <tr>\n",
              "      <th>173</th>\n",
              "      <td>TEST_173</td>\n",
              "      <td>B</td>\n",
              "    </tr>\n",
              "    <tr>\n",
              "      <th>174</th>\n",
              "      <td>TEST_174</td>\n",
              "      <td>B</td>\n",
              "    </tr>\n",
              "  </tbody>\n",
              "</table>\n",
              "<p>175 rows × 2 columns</p>\n",
              "</div>\n",
              "      <button class=\"colab-df-convert\" onclick=\"convertToInteractive('df-96551c71-e109-4cfe-be14-d77592d76155')\"\n",
              "              title=\"Convert this dataframe to an interactive table.\"\n",
              "              style=\"display:none;\">\n",
              "        \n",
              "  <svg xmlns=\"http://www.w3.org/2000/svg\" height=\"24px\"viewBox=\"0 0 24 24\"\n",
              "       width=\"24px\">\n",
              "    <path d=\"M0 0h24v24H0V0z\" fill=\"none\"/>\n",
              "    <path d=\"M18.56 5.44l.94 2.06.94-2.06 2.06-.94-2.06-.94-.94-2.06-.94 2.06-2.06.94zm-11 1L8.5 8.5l.94-2.06 2.06-.94-2.06-.94L8.5 2.5l-.94 2.06-2.06.94zm10 10l.94 2.06.94-2.06 2.06-.94-2.06-.94-.94-2.06-.94 2.06-2.06.94z\"/><path d=\"M17.41 7.96l-1.37-1.37c-.4-.4-.92-.59-1.43-.59-.52 0-1.04.2-1.43.59L10.3 9.45l-7.72 7.72c-.78.78-.78 2.05 0 2.83L4 21.41c.39.39.9.59 1.41.59.51 0 1.02-.2 1.41-.59l7.78-7.78 2.81-2.81c.8-.78.8-2.07 0-2.86zM5.41 20L4 18.59l7.72-7.72 1.47 1.35L5.41 20z\"/>\n",
              "  </svg>\n",
              "      </button>\n",
              "      \n",
              "  <style>\n",
              "    .colab-df-container {\n",
              "      display:flex;\n",
              "      flex-wrap:wrap;\n",
              "      gap: 12px;\n",
              "    }\n",
              "\n",
              "    .colab-df-convert {\n",
              "      background-color: #E8F0FE;\n",
              "      border: none;\n",
              "      border-radius: 50%;\n",
              "      cursor: pointer;\n",
              "      display: none;\n",
              "      fill: #1967D2;\n",
              "      height: 32px;\n",
              "      padding: 0 0 0 0;\n",
              "      width: 32px;\n",
              "    }\n",
              "\n",
              "    .colab-df-convert:hover {\n",
              "      background-color: #E2EBFA;\n",
              "      box-shadow: 0px 1px 2px rgba(60, 64, 67, 0.3), 0px 1px 3px 1px rgba(60, 64, 67, 0.15);\n",
              "      fill: #174EA6;\n",
              "    }\n",
              "\n",
              "    [theme=dark] .colab-df-convert {\n",
              "      background-color: #3B4455;\n",
              "      fill: #D2E3FC;\n",
              "    }\n",
              "\n",
              "    [theme=dark] .colab-df-convert:hover {\n",
              "      background-color: #434B5C;\n",
              "      box-shadow: 0px 1px 3px 1px rgba(0, 0, 0, 0.15);\n",
              "      filter: drop-shadow(0px 1px 2px rgba(0, 0, 0, 0.3));\n",
              "      fill: #FFFFFF;\n",
              "    }\n",
              "  </style>\n",
              "\n",
              "      <script>\n",
              "        const buttonEl =\n",
              "          document.querySelector('#df-96551c71-e109-4cfe-be14-d77592d76155 button.colab-df-convert');\n",
              "        buttonEl.style.display =\n",
              "          google.colab.kernel.accessAllowed ? 'block' : 'none';\n",
              "\n",
              "        async function convertToInteractive(key) {\n",
              "          const element = document.querySelector('#df-96551c71-e109-4cfe-be14-d77592d76155');\n",
              "          const dataTable =\n",
              "            await google.colab.kernel.invokeFunction('convertToInteractive',\n",
              "                                                     [key], {});\n",
              "          if (!dataTable) return;\n",
              "\n",
              "          const docLinkHtml = 'Like what you see? Visit the ' +\n",
              "            '<a target=\"_blank\" href=https://colab.research.google.com/notebooks/data_table.ipynb>data table notebook</a>'\n",
              "            + ' to learn more about interactive tables.';\n",
              "          element.innerHTML = '';\n",
              "          dataTable['output_type'] = 'display_data';\n",
              "          await google.colab.output.renderOutput(dataTable, element);\n",
              "          const docLink = document.createElement('div');\n",
              "          docLink.innerHTML = docLinkHtml;\n",
              "          element.appendChild(docLink);\n",
              "        }\n",
              "      </script>\n",
              "    </div>\n",
              "  </div>\n",
              "  "
            ]
          },
          "metadata": {},
          "execution_count": 94
        }
      ]
    },
    {
      "cell_type": "code",
      "source": [
        "submit.to_csv('submit.csv',index=False)"
      ],
      "metadata": {
        "id": "VeGHPW0wvczV"
      },
      "execution_count": 95,
      "outputs": []
    }
  ]
}